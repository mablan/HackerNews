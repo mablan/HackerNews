{
 "cells": [
  {
   "cell_type": "markdown",
   "metadata": {
    "collapsed": true
   },
   "source": [
    "# Introduction\n",
    "\n",
    "Hacker News is a site started by the startup incubator Y Combinator, where user-submitted stories (known as \"posts\") are voted and commented upon, similar to reddit. Hacker News is extremely popular in technology and startup circles, and posts that make it to the top of Hacker News' listings can get hundreds of thousands of visitors as a result.\n",
    "\n",
    "You can find the data set [here](https://www.kaggle.com/hacker-news/hacker-news-posts)\n",
    "\n",
    "*id*: The unique identifier from Hacker News for the post\n",
    "\n",
    "*title*: The title of the post\n",
    "\n",
    "*url*: The URL that the posts links to, if it the post has a URL\n",
    "\n",
    "*num_points*: The number of points the post acquired, calculated as the total number of upvotes minus the total number of downvotes\n",
    "num_comments: The number of comments that were made on the post\n",
    "\n",
    "*author*: The username of the person who submitted the post\n",
    "\n",
    "*created_at*: The date and time at which the post was submitted\n",
    "\n",
    "Here are the first few rows of the data set:\n",
    "\n",
    "|id   |title|url|num_points|num_comments|author|created_at|\n",
    "|:---:|:---:|:---:|----------|------------|:----:|----------|\n",
    "|12224879|\tInteractive Dynamic Video|\thttp://www.interactivedynamicvideo.com/|\t386|\t52|\tne0phyte|\t8/4/2016 11:52|\n",
    "|10975351|\tHow to Use Open Source and Shut the F*ck Up at the Same Time|\thttp://hueniverse.com/2016/01/26/how-to-use-open-source-and-shut-the-fuck-up-at-the-same-time/|\t39|\t10|\tjosep2|\t1/26/2016 19:30|\n",
    "|11964716|\tFlorida DJs May Face Felony for April Fools' Water Joke|\thttp://www.thewire.com/entertainment/2013/04/florida-djs-april-fools-water-joke/63798/|\t2|\t1|\tvezycash|\t6/23/2016 22:20|\n",
    "|11919867|\tTechnology ventures: From Idea to Enterprise|\thttps://www.amazon.com/Technology-Ventures-Enterprise-Thomas-Byers/dp/0073523429 |\t3|\t1|\thswarna|\t6/17/2016 0:01\n",
    "|10301696|\tNote by Note: The Making of Steinway L1037 (2007)|\thttp://www.nytimes.com/2007/11/07/movies/07stein.html?_r=0|\t8|\t2|\twalterbell|\t9/30/2015 4:12|\n",
    "\n",
    "We're specifically interested in posts whose titles begin with either `Ask HN` or `Show HN`. Users submit `Ask HN` posts to ask the Hacker News community a specific question. Below are a couple examples:\n",
    "\n",
    ">Ask HN: How to improve my personal website?\n",
    ">Ask HN: Am I the only one outraged by Twitter shutting down share counts?\n",
    ">Ask HN: Aby recent changes to CSS that broke mobile?\n",
    "\n",
    "Likewise, users submit `Show HN` posts to show the Hacker News community a project, product, or just generally something interesting. Below are a couple of examples:\n",
    "\n",
    ">Show HN: Wio Link  ESP8266 Based Web of Things Hardware Development Platform'\n",
    ">Show HN: Something pointless I made\n",
    ">Show HN: Shanhu.io, a programming playground powered by e8vm\n",
    "\n",
    "We'll compare these two types of posts to determine the following:\n",
    "\n",
    "* Do `Ask HN` or `Show HN` receive more comments on average?\n",
    "* Do posts created at a certain time receive more comments on average?\n",
    "\n"
   ]
  },
  {
   "cell_type": "markdown",
   "metadata": {},
   "source": [
    "# Part 1\n",
    "## Instructions\n",
    "1. Start by adding a title and writing a paragraph in a markdown cell introducing the project and the data set. The title and the introduction are tentative at this point, so don't spend too much time here — you can come back at the end of your work to refine them.\n",
    "\n",
    "2. Read the `hacker_news.csv` file in as a list of lists.\n",
    "    * Assign the result to the variable `hn`.\n",
    "\n",
    "3. Display the first five rows of `hn`.\n"
   ]
  },
  {
   "cell_type": "code",
   "execution_count": 1,
   "metadata": {
    "scrolled": true
   },
   "outputs": [
    {
     "name": "stdout",
     "output_type": "stream",
     "text": [
      "[['id', 'title', 'url', 'num_points', 'num_comments', 'author', 'created_at'], ['12224879', 'Interactive Dynamic Video', 'http://www.interactivedynamicvideo.com/', '386', '52', 'ne0phyte', '8/4/2016 11:52'], ['10975351', 'How to Use Open Source and Shut the Fuck Up at the Same Time', 'http://hueniverse.com/2016/01/26/how-to-use-open-source-and-shut-the-fuck-up-at-the-same-time/', '39', '10', 'josep2', '1/26/2016 19:30'], ['11964716', \"Florida DJs May Face Felony for April Fools' Water Joke\", 'http://www.thewire.com/entertainment/2013/04/florida-djs-april-fools-water-joke/63798/', '2', '1', 'vezycash', '6/23/2016 22:20'], ['11919867', 'Technology ventures: From Idea to Enterprise', 'https://www.amazon.com/Technology-Ventures-Enterprise-Thomas-Byers/dp/0073523429', '3', '1', 'hswarna', '6/17/2016 0:01']]\n"
     ]
    }
   ],
   "source": [
    "opened_file = open('hacker_news.csv')\n",
    "from csv import reader\n",
    "read_file = reader(opened_file)\n",
    "hn = list(read_file)\n",
    "print(hn[0:5])\n"
   ]
  },
  {
   "cell_type": "markdown",
   "metadata": {},
   "source": [
    "# Removing Headers from a List of Lists\n",
    "## Instructions\n",
    "1. Extract the first row of data, and assign it to the variable headers.\n",
    "2. Remove the first row from hn.\n",
    "3. Display headers.\n",
    "4. Display the first five rows of hn to verify that you removed the header row properly.\n"
   ]
  },
  {
   "cell_type": "code",
   "execution_count": 2,
   "metadata": {
    "scrolled": false
   },
   "outputs": [
    {
     "name": "stdout",
     "output_type": "stream",
     "text": [
      "['id', 'title', 'url', 'num_points', 'num_comments', 'author', 'created_at']\n",
      "[['12224879', 'Interactive Dynamic Video', 'http://www.interactivedynamicvideo.com/', '386', '52', 'ne0phyte', '8/4/2016 11:52'], ['10975351', 'How to Use Open Source and Shut the Fuck Up at the Same Time', 'http://hueniverse.com/2016/01/26/how-to-use-open-source-and-shut-the-fuck-up-at-the-same-time/', '39', '10', 'josep2', '1/26/2016 19:30'], ['11964716', \"Florida DJs May Face Felony for April Fools' Water Joke\", 'http://www.thewire.com/entertainment/2013/04/florida-djs-april-fools-water-joke/63798/', '2', '1', 'vezycash', '6/23/2016 22:20'], ['11919867', 'Technology ventures: From Idea to Enterprise', 'https://www.amazon.com/Technology-Ventures-Enterprise-Thomas-Byers/dp/0073523429', '3', '1', 'hswarna', '6/17/2016 0:01']]\n"
     ]
    }
   ],
   "source": [
    "headers = hn[0]\n",
    "print(headers)\n",
    "hn = hn[1:]\n",
    "print(hn[0:4])"
   ]
  },
  {
   "cell_type": "markdown",
   "metadata": {},
   "source": [
    "# Extracting Ask HN and Show HN Post\n",
    "## Instructions\n",
    "\n",
    "1.Create three empty lists called ask_posts, show_posts, and other_posts.\n",
    "\n",
    "2. Loop through each row in hn.\n",
    "    * Assign the title in each row to a variable named title.\n",
    "        * Because the title column is the second column, you'll need to get the element at index 1 in each row.\n",
    "\n",
    "3. Implement the following steps:\n",
    "    * If the lowercase version of title starts with ask hn, append the row to ask_posts.\n",
    "    * Else if the lowercase version of title starts with show hn, append the row to show_posts.\n",
    "    * Else append to other_posts.\n",
    "\n",
    "4. Check the number of posts in ask_posts, show_posts, and other_posts\n"
   ]
  },
  {
   "cell_type": "code",
   "execution_count": 3,
   "metadata": {},
   "outputs": [
    {
     "name": "stdout",
     "output_type": "stream",
     "text": [
      "1744\n",
      "1162\n",
      "17194\n",
      "[['12296411', 'Ask HN: How to improve my personal website?', '', '2', '6', 'ahmedbaracat', '8/16/2016 9:55'], ['10610020', 'Ask HN: Am I the only one outraged by Twitter shutting down share counts?', '', '28', '29', 'tkfx', '11/22/2015 13:43'], ['11610310', 'Ask HN: Aby recent changes to CSS that broke mobile?', '', '1', '1', 'polskibus', '5/2/2016 10:14'], ['12210105', 'Ask HN: Looking for Employee #3 How do I do it?', '', '1', '3', 'sph130', '8/2/2016 14:20']]\n",
      "[['10627194', 'Show HN: Wio Link  ESP8266 Based Web of Things Hardware Development Platform', 'https://iot.seeed.cc', '26', '22', 'kfihihc', '11/25/2015 14:03'], ['10646440', 'Show HN: Something pointless I made', 'http://dn.ht/picklecat/', '747', '102', 'dhotson', '11/29/2015 22:46'], ['11590768', 'Show HN: Shanhu.io, a programming playground powered by e8vm', 'https://shanhu.io', '1', '1', 'h8liu', '4/28/2016 18:05'], ['12178806', 'Show HN: Webscope  Easy way for web developers to communicate with Clients', 'http://webscopeapp.com', '3', '3', 'fastbrick', '7/28/2016 7:11']]\n"
     ]
    }
   ],
   "source": [
    "ask_posts = []\n",
    "show_posts = []\n",
    "other_posts = []\n",
    "for row in hn:\n",
    "    title = row[1].lower()\n",
    "    if title.startswith('ask hn'):\n",
    "        ask_posts.append(row)\n",
    "    elif title.startswith('show hn'):\n",
    "        show_posts.append(row)\n",
    "    else: \n",
    "        other_posts.append(row)\n",
    "print(len(ask_posts))\n",
    "print(len(show_posts))\n",
    "print(len(other_posts))\n",
    "print(ask_posts[0:4])\n",
    "print(show_posts[0:4])\n"
   ]
  },
  {
   "cell_type": "markdown",
   "metadata": {},
   "source": [
    "# Calculating the Average Number of Comments for Ask HN and Show HN Posts\n",
    "## Instructions\n",
    "1. Find the total number of comments in ask posts and assign it to total_ask_comments.\n",
    "    * Set total_ask_comments to 0.\n",
    "2. Use a for loop to iterate over the ask posts.\n",
    "    * Because the num_comments column is the fifth column in ask_posts, you'll need to get the element at index 4 in each row.\n",
    "        * You'll also need to convert the value to an integer so that we can calculate the sum of all the comments.\n",
    "        * Add this value to total_ask_comments.\n",
    "3. Compute the average number of comments on ask posts and assign it to avg_ask_comments.\n",
    "4. Print avg_ask_comments.\n",
    "5. Find the total number of comments in show posts and assign it to total_show_comments.\n",
    "    * Set total_show_comments to 0.\n",
    "6. Use a for loop to iterate over the show posts.\n",
    "    * Because the num_comments column is the fifth column in show_posts, you'll need to get the element at index 4 in each row.\n",
    "        * You'll also need to convert the value to an integer so that we can calculate the sum of all the comments.\n",
    "        * Add this value to total_show_comments.\n",
    "7. Compute the average number of comments on show posts and assign it to avg_show_comments.\n",
    "8. Print avg_show_comments.\n",
    "9. Do show posts or ask posts receive more comments on average? Write a markdown cell explaining your findings.\n",
    "\n"
   ]
  },
  {
   "cell_type": "code",
   "execution_count": 4,
   "metadata": {},
   "outputs": [
    {
     "name": "stdout",
     "output_type": "stream",
     "text": [
      "14.038417431192661\n"
     ]
    }
   ],
   "source": [
    "total_ask_comments = 0\n",
    "for row in ask_posts:\n",
    "    num_comments = int(row[4])\n",
    "    total_ask_comments = total_ask_comments + num_comments\n",
    "avg_ask_comments = total_ask_comments/len(ask_posts)\n",
    "print(avg_ask_comments)\n"
   ]
  },
  {
   "cell_type": "code",
   "execution_count": 5,
   "metadata": {},
   "outputs": [
    {
     "name": "stdout",
     "output_type": "stream",
     "text": [
      "10.31669535283993\n"
     ]
    }
   ],
   "source": [
    "total_show_comments = 0\n",
    "for row in show_posts:\n",
    "    num_comments = int(row[4])\n",
    "    total_show_comments = total_show_comments + num_comments\n",
    "avg_show_comments = total_show_comments/len(show_posts)\n",
    "print(avg_show_comments)\n"
   ]
  },
  {
   "cell_type": "markdown",
   "metadata": {},
   "source": [
    "Ask posts recibe more comments on average (around 14)  than show posts (approximately 10)"
   ]
  },
  {
   "cell_type": "markdown",
   "metadata": {},
   "source": [
    "# Finding the amount of ask posts by hour created\n",
    "## Instructions\n",
    "1. Import the datetime module as dt.\n",
    "2. Create an empty list and assign it to result_list. This will be a list of lists.\n",
    "3. Iterate over ask_posts and append to result_list a list with two elements:\n",
    "    * The first element shall be the column created_at.\n",
    "        * Because the created_at column is the seventh column in ask_posts, you'll need to get the element at index 6 in each row.\n",
    "    * The second element shall be the number of comments of the post.\n",
    "        * You'll also need to convert the value to an integer.\n",
    "4. Create two empty dictionaries called counts_by_hour and comments_by_hour.\n",
    "5. Loop through each row of result_list.\n",
    "6. Extract the hour from the date, which is the first element of the row.\n",
    "7. Use the datetime.strptime() method to parse the date and create a datetime object.\n",
    "8. Use the string we want to parse as the first argument and a string that specifies the format as the second argument.\n",
    "    * Use the datetime.strftime() method to select just the hour from the datetime object.\n",
    "    * If the hour isn't a key in counts_by_hour:\n",
    "        * Create the key in counts_by_hour and set it equal to 1.\n",
    "        * Create the key in comments_by_hour and set it equal to the comment number.\n",
    "    * If the hour is already a key in counts_by_hour:\n",
    "        * Increment the value in counts_by_hour by 1.\n",
    "        * Increment the value in comments_by_hour by the comment number."
   ]
  },
  {
   "cell_type": "code",
   "execution_count": 26,
   "metadata": {},
   "outputs": [],
   "source": [
    "import datetime as dt\n",
    "result_list = []\n",
    "\n",
    "for row in ask_posts:\n",
    "    lista = [row[6],int(row[4])]\n",
    "    result_list.append(lista)\n",
    "    \n",
    "\n",
    "#print(result_list[0:4])\n",
    "counts_by_hour = {}\n",
    "comments_by_hour = {}\n",
    "\n",
    "for row in result_list:\n",
    "    hour_str = dt.datetime.strptime(row[0],\"%m/%d/%Y %H:%M\")\n",
    "    hour = hour_str.hour\n",
    "    #print(hour) \n",
    "    if hour in counts_by_hour:\n",
    "        counts_by_hour[hour] +=1\n",
    "        comments_by_hour[hour] = comments_by_hour[hour] + row[1]\n",
    "    else:\n",
    "        counts_by_hour[hour] = 1\n",
    "        comments_by_hour[hour] = row[1]\n",
    "\n",
    "#print(counts_by_hour)\n",
    "#print(comments_by_hour)\n",
    "                                 \n",
    "    \n"
   ]
  },
  {
   "cell_type": "markdown",
   "metadata": {},
   "source": [
    "# 6. Calculating the average number of comments of Ask HN posts by hour\n",
    "## Instructions\n",
    "1. Use the example above to calculate the average number of comments per post for posts created during each hour of the day.\n",
    "2. The result should be a list of lists in which the first element is the hour and the second element is the average number of comments per post. Assign the result to a variable named avg_by_hour. Display the results."
   ]
  },
  {
   "cell_type": "code",
   "execution_count": 28,
   "metadata": {},
   "outputs": [
    {
     "name": "stdout",
     "output_type": "stream",
     "text": [
      "[[0, 8.127272727272727], [1, 11.383333333333333], [2, 23.810344827586206], [3, 7.796296296296297], [4, 7.170212765957447], [5, 10.08695652173913], [6, 9.022727272727273], [7, 7.852941176470588], [8, 10.25], [9, 5.5777777777777775], [10, 13.440677966101696], [11, 11.051724137931034], [12, 9.41095890410959], [13, 14.741176470588234], [14, 13.233644859813085], [15, 38.5948275862069], [16, 16.796296296296298], [17, 11.46], [18, 13.20183486238532], [19, 10.8], [20, 21.525], [21, 16.009174311926607], [22, 6.746478873239437], [23, 7.985294117647059]]\n"
     ]
    }
   ],
   "source": [
    "avg_by_hour = []\n",
    "for hour in counts_by_hour:\n",
    "    avg_by_hour.append([hour,comments_by_hour[hour]/counts_by_hour[hour]])\n",
    "print(avg_by_hour)"
   ]
  },
  {
   "cell_type": "markdown",
   "metadata": {},
   "source": [
    "# 7 Sorting and printing values from a list of lists\n",
    "## Instructions\n",
    "1. Create a list that equals avg_by_hour with swapped columns.\n",
    "    * Create an empty list and assign it to swap_avg_by_hour.\n",
    "    * Iterate over the rows of avg_by_hour and append to swap_avg_by_hour a list whose first element is the second element of the row, and whose second element is the first element of the row.\n",
    "2. Print swap_avg_by_hour.\n",
    "3. Use the sorted() function to sort swap_avg_by_hour in descending order. Since the first column of this list is the average number of comments, sorting the list will sort by the average number of comments.\n",
    "    * Set the reverse argument to True, so that the highest value in the first column appears first in the list.\n",
    "    * Assign the result to sorted_swap.\n",
    "4. Print the string \"Top 5 Hours for Ask Posts Comments\".\n",
    "5. Loop through each average and each hour (in this order) in the first five lists of sorted_swap.\n",
    "6. Use the str.format() method to print the hour and average in the following format: 15:00: 38.59 average comments per post.\n",
    "    * To format the hours, use the datetime.strptime() constructor to return a datetime object and then use the strftime() method to specify the format of the time.\n",
    "    * To format the average, you can use {:.2f} to indicate that just two decimal places should be used.\n",
    "7. Which hours should you create a post during to have a higher chance of receiving comments? Refer back to the documentation for the data set to convert the times to the time zone you live in. Write a markdown cell explaining your findings."
   ]
  },
  {
   "cell_type": "code",
   "execution_count": 49,
   "metadata": {},
   "outputs": [
    {
     "name": "stdout",
     "output_type": "stream",
     "text": [
      "Top 5 Hours for Ask Posts Comments\n",
      "15:00:38.594828 average comments per hour\n",
      "02:00:23.810345 average comments per hour\n",
      "20:00:21.525000 average comments per hour\n",
      "16:00:16.796296 average comments per hour\n",
      "21:00:16.009174 average comments per hour\n"
     ]
    }
   ],
   "source": [
    "#from operator import itemgetter\n",
    "swap_avg_by_hour = []\n",
    "hour_format = \"%H\"\n",
    "for row in avg_by_hour:\n",
    "    swap_avg_by_hour.append([row[1],row[0]])\n",
    "#print(swap_avg_by_hour)\n",
    "sorted_swap = sorted(swap_avg_by_hour,reverse=True)\n",
    "print(\"Top 5 Hours for Ask Posts Comments\")\n",
    "sorted_swap5 = sorted_swap[0:5]\n",
    "for row in sorted_swap5:\n",
    "    hour = dt.datetime.strptime(str(row[1]),hour_format)\n",
    "    linea = \"{}:{:2f} average comments per hour\".format(hour.strftime(\"%H:%M\"),row[0])\n",
    "    print(linea)\n"
   ]
  },
  {
   "cell_type": "markdown",
   "metadata": {},
   "source": [
    "The time given in the data set is expressed as US-Eastern time. Right now, here in Colombia we are an hour behind. However, I think that changes in some periods of the year we are in the same time zone. In anay case, to target, for example, the 15:00 hour time, I should try to post near 14:00 hour time"
   ]
  }
 ],
 "metadata": {
  "kernelspec": {
   "display_name": "Python 3",
   "language": "python",
   "name": "python3"
  },
  "language_info": {
   "codemirror_mode": {
    "name": "ipython",
    "version": 3
   },
   "file_extension": ".py",
   "mimetype": "text/x-python",
   "name": "python",
   "nbconvert_exporter": "python",
   "pygments_lexer": "ipython3",
   "version": "3.7.4"
  }
 },
 "nbformat": 4,
 "nbformat_minor": 2
}
